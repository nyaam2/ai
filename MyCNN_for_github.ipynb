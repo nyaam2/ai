{
  "nbformat": 4,
  "nbformat_minor": 0,
  "metadata": {
    "colab": {
      "provenance": [],
      "authorship_tag": "ABX9TyPE6aF2Gtk948uE8OCWDTeX",
      "include_colab_link": true
    },
    "kernelspec": {
      "name": "python3",
      "display_name": "Python 3"
    },
    "language_info": {
      "name": "python"
    }
  },
  "cells": [
    {
      "cell_type": "markdown",
      "metadata": {
        "id": "view-in-github",
        "colab_type": "text"
      },
      "source": [
        "<a href=\"https://colab.research.google.com/github/nyaam2/ai/blob/main/MyCNN_for_github.ipynb\" target=\"_parent\"><img src=\"https://colab.research.google.com/assets/colab-badge.svg\" alt=\"Open In Colab\"/></a>"
      ]
    },
    {
      "cell_type": "code",
      "source": [
        "class MyCNN(nn.Module):\n",
        "  def __init__(self):\n",
        "    super().__init__()\n",
        "\n",
        "    self.conv1=nn.Sequential(nn.Conv2d(3,64,3,padding=1),\n",
        "                        nn.BatchNorm2d(64),\n",
        "                        nn.ReLU(),\n",
        "                        nn.Conv2d(64,64,3,padding=1),\n",
        "                        nn.BatchNorm2d(64),\n",
        "                        nn.ReLU())\n",
        "    self.Maxpool1=nn.MaxPool2d(2)\n",
        "\n",
        "    self.conv2=nn.Sequential(nn.Conv2d(64,128,3,padding=1),\n",
        "                             nn.BatchNorm2d(128),\n",
        "                             nn.ReLU(),\n",
        "                             nn.Conv2d(128,128,3,padding=1),\n",
        "                             nn.BatchNorm2d(128),\n",
        "                             nn.ReLU())\n",
        "    self.Maxpool2=nn.MaxPool2d(2)\n",
        "\n",
        "    self.conv3=nn.Sequential(nn.Conv2d(128,256,3,padding=1),\n",
        "                          nn.BatchNorm2d(256),\n",
        "                          nn.ReLU(),\n",
        "                          nn.Conv2d(256,256,3,padding=1),\n",
        "                          nn.BatchNorm2d(256),\n",
        "                          nn.ReLU(),\n",
        "                          nn.Conv2d(256,256,3,padding=1),\n",
        "                          nn.BatchNorm2d(256),\n",
        "                          nn.ReLU())\n",
        "    self.Maxpool3=nn.MaxPool2d(2)\n",
        "\n",
        "    self.conv4=nn.Sequential(nn.Conv2d(256,512,3,padding=1),\n",
        "                          nn.BatchNorm2d(512),\n",
        "                          nn.ReLU(),\n",
        "                          nn.Conv2d(512,512,3,padding=1),\n",
        "                          nn.BatchNorm2d(512),\n",
        "                          nn.ReLU(),\n",
        "                          nn.Conv2d(512,512,3,padding=1),\n",
        "                          nn.BatchNorm2d(512),\n",
        "                          nn.ReLU())\n",
        "    self.Maxpool4=nn.MaxPool2d(2)\n",
        "\n",
        "    self.conv5=nn.Sequential(nn.Conv2d(512,512,3,padding=1),\n",
        "                          nn.BatchNorm2d(512),\n",
        "                          nn.ReLU(),\n",
        "                          nn.Conv2d(512,512,3,padding=1),\n",
        "                          nn.BatchNorm2d(512),\n",
        "                          nn.ReLU(),\n",
        "                          nn.Conv2d(512,512,3,padding=1),\n",
        "                          nn.BatchNorm2d(512),\n",
        "                          nn.ReLU())\n",
        "    self.Maxpool5=nn.MaxPool2d(2)\n",
        "\n",
        "    self.fc=nn.Sequential(nn.Linear(512*3*3,4096),\n",
        "                              nn.ReLU(),\n",
        "                              nn.Linear(4096,4096),\n",
        "                              nn.ReLU(),\n",
        "                              nn.Linear(4096,10))\n",
        "\n",
        "  def forward(self,x):\n",
        "    x=self.conv1(x)\n",
        "    x=self.Maxpool1(x)\n",
        "    x=self.conv2(x)\n",
        "    x=self.Maxpool2(x)\n",
        "    x=self.conv3(x)\n",
        "    x=self.Maxpool3(x)\n",
        "    x=self.conv4(x)\n",
        "    x=self.Maxpool4(x)\n",
        "    x=self.conv5(x)\n",
        "    x=self.Maxpool5(x)\n",
        "    x=torch.flatten(x,start_dim=1)\n",
        "    x=self.fc(x)\n",
        "    return x\n"
      ],
      "metadata": {
        "id": "u1j8zJjWMccL"
      },
      "execution_count": null,
      "outputs": []
    },
    {
      "cell_type": "code",
      "execution_count": null,
      "metadata": {
        "id": "UZ15qSm8MIwE"
      },
      "outputs": [],
      "source": []
    }
  ]
}